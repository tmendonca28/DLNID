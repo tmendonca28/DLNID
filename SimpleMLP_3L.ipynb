{
  "nbformat": 4,
  "nbformat_minor": 0,
  "metadata": {
    "colab": {
      "name": "SimpleMLP_3L.ipynb",
      "version": "0.3.2",
      "provenance": [],
      "collapsed_sections": [],
      "include_colab_link": true
    },
    "kernelspec": {
      "name": "python3",
      "display_name": "Python 3"
    },
    "accelerator": "GPU"
  },
  "cells": [
    {
      "cell_type": "markdown",
      "metadata": {
        "id": "view-in-github",
        "colab_type": "text"
      },
      "source": [
        "<a href=\"https://colab.research.google.com/github/tmendonca28/DLNID/blob/master/SimpleMLP_3L.ipynb\" target=\"_parent\"><img src=\"https://colab.research.google.com/assets/colab-badge.svg\" alt=\"Open In Colab\"/></a>"
      ]
    },
    {
      "cell_type": "code",
      "metadata": {
        "id": "WXA9XdjcEvWr",
        "colab_type": "code",
        "colab": {}
      },
      "source": [
        "import pdb\n",
        "import torch\n",
        "import torch.nn as nn\n",
        "import torch.nn.functional as F\n",
        "import torchvision.transforms as transforms\n",
        "from torch.autograd import Variable\n",
        "from sklearn.model_selection import train_test_split\n",
        "from statistics import mean\n",
        "import pandas as pd\n",
        "import numpy as np"
      ],
      "execution_count": 0,
      "outputs": []
    },
    {
      "cell_type": "code",
      "metadata": {
        "id": "jE2q-YINFI7I",
        "colab_type": "code",
        "outputId": "f90f6dd0-cc85-42a5-e27f-b17253a79dab",
        "colab": {
          "base_uri": "https://localhost:8080/",
          "height": 34
        }
      },
      "source": [
        "# Loading the data\n",
        "from google.colab import drive\n",
        "drive.mount('/content/drive')\n",
        "\n",
        "# drive.mount(\"/content/drive\", force_remount=True)\n",
        "train_data = pd.read_csv(\"drive/My Drive/Masters/Project/DLNID/Datasets/KDDTrainRenameNominalValuesNormalized.csv\", header=0, low_memory=False, dtype = np.float32)\n",
        "test_data = pd.read_csv(\"drive/My Drive/Masters/Project/DLNID/Datasets/KDDTestRenameNominalValuesNormalized.csv\", header=0, low_memory=False, dtype = np.float32)"
      ],
      "execution_count": 0,
      "outputs": [
        {
          "output_type": "stream",
          "text": [
            "Drive already mounted at /content/drive; to attempt to forcibly remount, call drive.mount(\"/content/drive\", force_remount=True).\n"
          ],
          "name": "stdout"
        }
      ]
    },
    {
      "cell_type": "code",
      "metadata": {
        "id": "GmqkOAHEJPd7",
        "colab_type": "code",
        "colab": {}
      },
      "source": [
        "targets_pd = train_data.iloc[0:, 41]\n",
        "features_pd = train_data.iloc[0:, 0:41]\n",
        "\n",
        "test_targets_pd = test_data.iloc[0:, 41]\n",
        "test_features_pd = test_data.iloc[0:, 0:41]\n",
        "\n",
        "# create feature and targets tensor for train set. As you remember we need variable to accumulate gradients. Therefore first we create tensor, then we will create variable\n",
        "featuresTrain = torch.FloatTensor(features_pd.values)\n",
        "# torch_tensor = torch.tensor(targets_df['targets'].values)\n",
        "targetsTrain = torch.LongTensor(targets_pd.values)\n",
        "\n",
        "featuresTest = torch.FloatTensor(test_features_pd.values)\n",
        "# torch_tensor = torch.tensor(targets_df['targets'].values)\n",
        "targetsTest = torch.LongTensor(test_targets_pd.values)\n",
        "\n",
        "# batch_size, epoch and iteration\n",
        "batch_size = 100\n",
        "n_iters = 10000\n",
        "num_epochs = n_iters / (len(features_pd) / batch_size)\n",
        "num_epochs = int(num_epochs)\n",
        "\n",
        "# Pytorch train and test sets\n",
        "train = torch.utils.data.TensorDataset(featuresTrain,targetsTrain)\n",
        "test = torch.utils.data.TensorDataset(featuresTest, targetsTest)\n",
        "\n",
        "# data loader\n",
        "train_loader = torch.utils.data.DataLoader(train, batch_size = batch_size, shuffle = False)\n",
        "test_loader = torch.utils.data.DataLoader(test, batch_size = batch_size, shuffle = False)"
      ],
      "execution_count": 0,
      "outputs": []
    },
    {
      "cell_type": "code",
      "metadata": {
        "id": "ot4JuTKEJURQ",
        "colab_type": "code",
        "colab": {}
      },
      "source": [
        "# Building a feed-forward network\n",
        "model = nn.Sequential(nn.Linear(41, 1000),\n",
        "                     nn.ReLU(),\n",
        "                     nn.Linear(1000, 64),\n",
        "                     nn.ReLU(),\n",
        "                     nn.Linear(64, 2),\n",
        "                     nn.LogSoftmax(dim=1))"
      ],
      "execution_count": 0,
      "outputs": []
    },
    {
      "cell_type": "code",
      "metadata": {
        "id": "qqPSufslJa9p",
        "colab_type": "code",
        "outputId": "f2fd3c40-7d7f-4291-de5c-9b300b1d5961",
        "colab": {
          "base_uri": "https://localhost:8080/",
          "height": 329
        }
      },
      "source": [
        "input_dim = 41    # input dimension\n",
        "hidden_dim = 240  # hidden layer dimension; was 100 before\n",
        "layer_dim =  1    # number of hidden layers; was 2 before\n",
        "output_dim = 2   # output dimension\n",
        "\n",
        "# Cross Entropy Loss \n",
        "criterion = nn.CrossEntropyLoss()\n",
        "\n",
        "# SGD Optimizer\n",
        "learning_rate = 0.01\n",
        "optimizer = torch.optim.SGD(model.parameters(), lr=learning_rate)\n",
        "\n",
        "seq_dim = 1  \n",
        "loss_list = []\n",
        "iteration_list = []\n",
        "accuracy_list = []\n",
        "acc = []\n",
        "count = 0\n",
        "for epoch in range(num_epochs):\n",
        "    for i, (images, labels) in enumerate(train_loader):\n",
        "        # print(\"Training: \",i)\n",
        "#         pdb.set_trace()\n",
        "        train  = Variable(images.view(-1, 41))\n",
        "        labels = Variable(labels )\n",
        "        # pdb.set_trace()\n",
        "            \n",
        "        # Clear gradients\n",
        "        optimizer.zero_grad()\n",
        "        \n",
        "        # Forward propagation\n",
        "        outputs = model(train)\n",
        "        \n",
        "        # Calculate softmax and cross entropy loss\n",
        "        loss = criterion(outputs, labels)\n",
        "        \n",
        "        # Calculating gradients\n",
        "        loss.backward()\n",
        "        \n",
        "        # Update parameters\n",
        "        optimizer.step()\n",
        "        \n",
        "        count += 1\n",
        "        \n",
        "        if count % 250 == 0:\n",
        "            # Calculate Accuracy         \n",
        "            correct = 0\n",
        "            total = 0\n",
        "            # Iterate through test dataset\n",
        "            for images, labels in test_loader:\n",
        "                images = Variable(images.view(-1, 41))\n",
        "                \n",
        "                # Forward propagation\n",
        "                outputs = model(images)\n",
        "                \n",
        "                # Get predictions from the maximum value\n",
        "                predicted = torch.max(outputs.data, 1)[1]\n",
        "                \n",
        "                # Total number of labels\n",
        "                total += labels.size(0)\n",
        "                \n",
        "                correct += (predicted == labels).sum()\n",
        "            \n",
        "            accuracy = 100 * correct / float(total)\n",
        "            # store loss and iteration\n",
        "            loss_list.append(loss.data)\n",
        "            iteration_list.append(count)\n",
        "            accuracy_list.append(accuracy)\n",
        "            if count % 500 == 0:\n",
        "                # Print Loss\n",
        "                acc.append(accuracy.item())\n",
        "                print('Iteration: {}  Loss: {}  Accuracy: {} %'.format(count, loss.data.item(), accuracy))\n",
        "\n",
        "print(\"{0:.2f}\".format(mean(acc)))"
      ],
      "execution_count": 0,
      "outputs": [
        {
          "output_type": "stream",
          "text": [
            "Iteration: 500  Loss: 0.2859121859073639  Accuracy: 80 %\n",
            "Iteration: 1000  Loss: 0.22439804673194885  Accuracy: 76 %\n",
            "Iteration: 1500  Loss: 0.16768355667591095  Accuracy: 76 %\n",
            "Iteration: 2000  Loss: 0.19020555913448334  Accuracy: 80 %\n",
            "Iteration: 2500  Loss: 0.12939220666885376  Accuracy: 78 %\n",
            "Iteration: 3000  Loss: 0.0857904702425003  Accuracy: 77 %\n",
            "Iteration: 3500  Loss: 0.17980743944644928  Accuracy: 78 %\n",
            "Iteration: 4000  Loss: 0.15235891938209534  Accuracy: 78 %\n",
            "Iteration: 4500  Loss: 0.15313546359539032  Accuracy: 78 %\n",
            "Iteration: 5000  Loss: 0.0975704938173294  Accuracy: 75 %\n",
            "Iteration: 5500  Loss: 0.0574466846883297  Accuracy: 75 %\n",
            "Iteration: 6000  Loss: 0.20054876804351807  Accuracy: 79 %\n",
            "Iteration: 6500  Loss: 0.07474350929260254  Accuracy: 74 %\n",
            "Iteration: 7000  Loss: 0.08719532936811447  Accuracy: 77 %\n",
            "Iteration: 7500  Loss: 0.11928638815879822  Accuracy: 74 %\n",
            "Iteration: 8000  Loss: 0.06544480472803116  Accuracy: 78 %\n",
            "Iteration: 8500  Loss: 0.10434421896934509  Accuracy: 78 %\n",
            "77.12\n"
          ],
          "name": "stdout"
        }
      ]
    }
  ]
}